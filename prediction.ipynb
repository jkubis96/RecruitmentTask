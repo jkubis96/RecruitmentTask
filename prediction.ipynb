{
 "cells": [
  {
   "cell_type": "code",
   "execution_count": 1,
   "id": "cc819d07-0fb0-4da2-9886-723716b828d6",
   "metadata": {},
   "outputs": [],
   "source": [
    "# load BestModel\n",
    "import joblib\n",
    "from scripts.Model import BestModel\n",
    "\n",
    "model = joblib.load('BestModel.pkl')\n"
   ]
  },
  {
   "cell_type": "code",
   "execution_count": 2,
   "id": "5a9e9354-fbc1-460b-8eb2-ea225f027553",
   "metadata": {},
   "outputs": [
    {
     "data": {
      "text/html": [
       "<div>\n",
       "<style scoped>\n",
       "    .dataframe tbody tr th:only-of-type {\n",
       "        vertical-align: middle;\n",
       "    }\n",
       "\n",
       "    .dataframe tbody tr th {\n",
       "        vertical-align: top;\n",
       "    }\n",
       "\n",
       "    .dataframe thead th {\n",
       "        text-align: right;\n",
       "    }\n",
       "</style>\n",
       "<table border=\"1\" class=\"dataframe\">\n",
       "  <thead>\n",
       "    <tr style=\"text-align: right;\">\n",
       "      <th></th>\n",
       "      <th>SKBR3</th>\n",
       "      <th>IMR32</th>\n",
       "      <th>A431</th>\n",
       "    </tr>\n",
       "  </thead>\n",
       "  <tbody>\n",
       "    <tr>\n",
       "      <th>TSPAN6</th>\n",
       "      <td>2.523562</td>\n",
       "      <td>4.232661</td>\n",
       "      <td>4.469886</td>\n",
       "    </tr>\n",
       "    <tr>\n",
       "      <th>TNMD</th>\n",
       "      <td>0.000000</td>\n",
       "      <td>1.176323</td>\n",
       "      <td>0.000000</td>\n",
       "    </tr>\n",
       "    <tr>\n",
       "      <th>DPM1</th>\n",
       "      <td>7.109361</td>\n",
       "      <td>5.953032</td>\n",
       "      <td>7.151169</td>\n",
       "    </tr>\n",
       "    <tr>\n",
       "      <th>SCYL3</th>\n",
       "      <td>3.258519</td>\n",
       "      <td>2.632268</td>\n",
       "      <td>2.250962</td>\n",
       "    </tr>\n",
       "    <tr>\n",
       "      <th>C1orf112</th>\n",
       "      <td>3.886550</td>\n",
       "      <td>3.689299</td>\n",
       "      <td>4.198494</td>\n",
       "    </tr>\n",
       "  </tbody>\n",
       "</table>\n",
       "</div>"
      ],
      "text/plain": [
       "             SKBR3     IMR32      A431\n",
       "TSPAN6    2.523562  4.232661  4.469886\n",
       "TNMD      0.000000  1.176323  0.000000\n",
       "DPM1      7.109361  5.953032  7.151169\n",
       "SCYL3     3.258519  2.632268  2.250962\n",
       "C1orf112  3.886550  3.689299  4.198494"
      ]
     },
     "execution_count": 2,
     "metadata": {},
     "output_type": "execute_result"
    }
   ],
   "source": [
    "import pandas as pd\n",
    "\n",
    "# loading data from https://depmap.org/portal/ \n",
    "demap = pd.read_csv('data/OmicsExpressionProteinCodingGenesTPMLogp1.csv', index_col=0).T\n",
    "\n",
    "import re\n",
    "demap.index = [re.sub(r\" \\(.*\",'', x) for x in demap.index]\n",
    "\n",
    "# loading cell lineages metadata\n",
    "cell_linages_meta = pd.read_csv('data/Model.csv', index_col=0)\n",
    "\n",
    "cell_linages_meta = cell_linages_meta[cell_linages_meta['StrippedCellLineName'].isin(['IMR32','SKBR3','A431'])]\n",
    "\n",
    "# selecting ['IMR32','SKBR3','A431']\n",
    "demap = demap.loc[:,list(cell_linages_meta.index)]\n",
    "\n",
    "# renaming columns to cell lineage ids\n",
    "rename_col = dict(zip(cell_linages_meta.index, cell_linages_meta['StrippedCellLineName']))\n",
    "\n",
    "demap = demap.rename(columns=rename_col)\n",
    "\n",
    "demap.head()"
   ]
  },
  {
   "cell_type": "code",
   "execution_count": 3,
   "id": "86c9e418-4835-4540-8e6f-056620e2ed0b",
   "metadata": {},
   "outputs": [
    {
     "name": "stdout",
     "output_type": "stream",
     "text": [
      "['SKBR3' 'IMR32' 'A431']\n"
     ]
    }
   ],
   "source": [
    "predictions = model.predict(demap)\n",
    "\n",
    "print(predictions)"
   ]
  },
  {
   "cell_type": "code",
   "execution_count": 4,
   "id": "f05c7172-a27c-413a-8e78-7326e965607c",
   "metadata": {},
   "outputs": [],
   "source": [
    "from sklearn.metrics import accuracy_score, precision_score, recall_score, f1_score, classification_report, confusion_matrix\n",
    "\n",
    "tested = list(demap.columns)\n",
    "# metrices\n",
    "accuracy = accuracy_score(tested, predictions)\n",
    "precision = precision_score(tested, predictions, average='weighted')  \n",
    "recall = recall_score(tested, predictions, average='weighted') \n",
    "f1 = f1_score(tested, predictions, average='weighted')  \n",
    "\n",
    "results = pd.DataFrame({\n",
    "            'Model': model.name,\n",
    "            'Accuracy': accuracy,\n",
    "            'Precision': precision,\n",
    "            'Recall': recall,\n",
    "            'F1 Score': f1\n",
    "        })"
   ]
  },
  {
   "cell_type": "code",
   "execution_count": 5,
   "id": "31c5d53b-2186-41db-8835-6a13cc52cd00",
   "metadata": {},
   "outputs": [
    {
     "data": {
      "text/html": [
       "<div>\n",
       "<style scoped>\n",
       "    .dataframe tbody tr th:only-of-type {\n",
       "        vertical-align: middle;\n",
       "    }\n",
       "\n",
       "    .dataframe tbody tr th {\n",
       "        vertical-align: top;\n",
       "    }\n",
       "\n",
       "    .dataframe thead th {\n",
       "        text-align: right;\n",
       "    }\n",
       "</style>\n",
       "<table border=\"1\" class=\"dataframe\">\n",
       "  <thead>\n",
       "    <tr style=\"text-align: right;\">\n",
       "      <th></th>\n",
       "      <th>Model</th>\n",
       "      <th>Accuracy</th>\n",
       "      <th>Precision</th>\n",
       "      <th>Recall</th>\n",
       "      <th>F1 Score</th>\n",
       "    </tr>\n",
       "  </thead>\n",
       "  <tbody>\n",
       "    <tr>\n",
       "      <th>0</th>\n",
       "      <td>Random Forest</td>\n",
       "      <td>1.0</td>\n",
       "      <td>1.0</td>\n",
       "      <td>1.0</td>\n",
       "      <td>1.0</td>\n",
       "    </tr>\n",
       "  </tbody>\n",
       "</table>\n",
       "</div>"
      ],
      "text/plain": [
       "           Model  Accuracy  Precision  Recall  F1 Score\n",
       "0  Random Forest       1.0        1.0     1.0       1.0"
      ]
     },
     "execution_count": 5,
     "metadata": {},
     "output_type": "execute_result"
    }
   ],
   "source": [
    "results"
   ]
  },
  {
   "cell_type": "code",
   "execution_count": 6,
   "id": "5903df62-6540-418f-8562-465dd13569e7",
   "metadata": {},
   "outputs": [],
   "source": [
    "# features importance\n",
    "\n",
    "importance_df = pd.DataFrame({\n",
    "    'Feature': model.features,  # Nazwy cech\n",
    "    'Importance': model.model.feature_importances_\n",
    "})\n",
    "\n",
    "importance_df = importance_df.sort_values(by='Importance', ascending=False)"
   ]
  },
  {
   "cell_type": "code",
   "execution_count": 7,
   "id": "06df713c-4436-4ccc-9d17-aab73e345366",
   "metadata": {},
   "outputs": [
    {
     "data": {
      "text/html": [
       "<div>\n",
       "<style scoped>\n",
       "    .dataframe tbody tr th:only-of-type {\n",
       "        vertical-align: middle;\n",
       "    }\n",
       "\n",
       "    .dataframe tbody tr th {\n",
       "        vertical-align: top;\n",
       "    }\n",
       "\n",
       "    .dataframe thead th {\n",
       "        text-align: right;\n",
       "    }\n",
       "</style>\n",
       "<table border=\"1\" class=\"dataframe\">\n",
       "  <thead>\n",
       "    <tr style=\"text-align: right;\">\n",
       "      <th></th>\n",
       "      <th>Feature</th>\n",
       "      <th>Importance</th>\n",
       "    </tr>\n",
       "  </thead>\n",
       "  <tbody>\n",
       "    <tr>\n",
       "      <th>121</th>\n",
       "      <td>FADS1</td>\n",
       "      <td>0.054698</td>\n",
       "    </tr>\n",
       "    <tr>\n",
       "      <th>50</th>\n",
       "      <td>TFAP2C</td>\n",
       "      <td>0.044730</td>\n",
       "    </tr>\n",
       "    <tr>\n",
       "      <th>139</th>\n",
       "      <td>ZFP82</td>\n",
       "      <td>0.039519</td>\n",
       "    </tr>\n",
       "    <tr>\n",
       "      <th>22</th>\n",
       "      <td>BNC1</td>\n",
       "      <td>0.038019</td>\n",
       "    </tr>\n",
       "    <tr>\n",
       "      <th>125</th>\n",
       "      <td>GNG4</td>\n",
       "      <td>0.035845</td>\n",
       "    </tr>\n",
       "  </tbody>\n",
       "</table>\n",
       "</div>"
      ],
      "text/plain": [
       "    Feature  Importance\n",
       "121   FADS1    0.054698\n",
       "50   TFAP2C    0.044730\n",
       "139   ZFP82    0.039519\n",
       "22     BNC1    0.038019\n",
       "125    GNG4    0.035845"
      ]
     },
     "execution_count": 7,
     "metadata": {},
     "output_type": "execute_result"
    }
   ],
   "source": [
    "importance_df.head()"
   ]
  },
  {
   "cell_type": "code",
   "execution_count": 8,
   "id": "945b13cf-633b-411d-816e-fd94c16ebe46",
   "metadata": {},
   "outputs": [
    {
     "data": {
      "image/png": "[encoded data removed]",
      "text/plain": [
       "<Figure size 1000x600 with 1 Axes>"
      ]
     },
     "metadata": {},
     "output_type": "display_data"
    }
   ],
   "source": [
    "plot_importance = importance_df.iloc[list(range(0,20))]\n",
    "\n",
    "import matplotlib.pyplot as plt\n",
    "\n",
    "plt.figure(figsize=(10, 6))\n",
    "plt.barh(plot_importance['Feature'], plot_importance['Importance'])\n",
    "plt.xlabel('Importance')\n",
    "plt.title('Feature Importance - Random Forest')\n",
    "plt.show()"
   ]
  },
  {
   "cell_type": "code",
   "execution_count": null,
   "id": "0a86fb0e-df73-4fcc-9be9-6d4fa6ccc7e9",
   "metadata": {},
   "outputs": [],
   "source": []
  }
 ],
 "metadata": {
  "kernelspec": {
   "display_name": "Python 3 (ipykernel)",
   "language": "python",
   "name": "python3"
  },
  "language_info": {
   "codemirror_mode": {
    "name": "ipython",
    "version": 3
   },
   "file_extension": ".py",
   "mimetype": "text/x-python",
   "name": "python",
   "nbconvert_exporter": "python",
   "pygments_lexer": "ipython3",
   "version": "3.9.16"
  }
 },
 "nbformat": 4,
 "nbformat_minor": 5
}
