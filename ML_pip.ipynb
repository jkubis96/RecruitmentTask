{
 "cells": [
  {
   "cell_type": "code",
   "execution_count": 1,
   "id": "307e3d38-d877-4dca-b484-32fb32a95bfd",
   "metadata": {},
   "outputs": [],
   "source": [
    "import pandas as pd\n",
    "\n",
    "from scripts.AdjustmentScripts import DataAdj"
   ]
  },
  {
   "cell_type": "code",
   "execution_count": 2,
   "id": "1534db91-e3af-4d05-b929-cc119e356ee9",
   "metadata": {},
   "outputs": [],
   "source": [
    "tpm_meta = pd.read_csv('gtf_genome_file/transcript_length.gtf', sep='\\t')\n",
    "\n",
    "# select top transcript len\n",
    "tpm_meta = tpm_meta.loc[tpm_meta.groupby('id')['len'].idxmax()]\n"
   ]
  },
  {
   "cell_type": "code",
   "execution_count": 3,
   "id": "03d21968-3808-4e1e-8ca9-1deeca01db89",
   "metadata": {},
   "outputs": [
    {
     "data": {
      "text/html": [
       "<div>\n",
       "<style scoped>\n",
       "    .dataframe tbody tr th:only-of-type {\n",
       "        vertical-align: middle;\n",
       "    }\n",
       "\n",
       "    .dataframe tbody tr th {\n",
       "        vertical-align: top;\n",
       "    }\n",
       "\n",
       "    .dataframe thead th {\n",
       "        text-align: right;\n",
       "    }\n",
       "</style>\n",
       "<table border=\"1\" class=\"dataframe\">\n",
       "  <thead>\n",
       "    <tr style=\"text-align: right;\">\n",
       "      <th></th>\n",
       "      <th>id</th>\n",
       "      <th>len</th>\n",
       "    </tr>\n",
       "  </thead>\n",
       "  <tbody>\n",
       "    <tr>\n",
       "      <th>1</th>\n",
       "      <td>A1BG</td>\n",
       "      <td>8314</td>\n",
       "    </tr>\n",
       "    <tr>\n",
       "      <th>2</th>\n",
       "      <td>A1CF</td>\n",
       "      <td>86266</td>\n",
       "    </tr>\n",
       "    <tr>\n",
       "      <th>4</th>\n",
       "      <td>A2M</td>\n",
       "      <td>48565</td>\n",
       "    </tr>\n",
       "    <tr>\n",
       "      <th>5</th>\n",
       "      <td>A2ML1</td>\n",
       "      <td>64380</td>\n",
       "    </tr>\n",
       "    <tr>\n",
       "      <th>6</th>\n",
       "      <td>A3GALT2</td>\n",
       "      <td>14332</td>\n",
       "    </tr>\n",
       "  </tbody>\n",
       "</table>\n",
       "</div>"
      ],
      "text/plain": [
       "        id    len\n",
       "1     A1BG   8314\n",
       "2     A1CF  86266\n",
       "4      A2M  48565\n",
       "5    A2ML1  64380\n",
       "6  A3GALT2  14332"
      ]
     },
     "execution_count": 3,
     "metadata": {},
     "output_type": "execute_result"
    }
   ],
   "source": [
    "tpm_meta.head()"
   ]
  },
  {
   "cell_type": "code",
   "execution_count": 4,
   "id": "ca9b6899-14a8-4d98-a516-9752922e08e9",
   "metadata": {},
   "outputs": [],
   "source": [
    "adj = DataAdj(tpm_meta)"
   ]
  },
  {
   "cell_type": "code",
   "execution_count": 5,
   "id": "3cffadf1-ca01-4c80-b6ef-5439d4c81a7a",
   "metadata": {},
   "outputs": [],
   "source": [
    "# Brain - IMR32\n",
    "\n",
    "d1 = pd.read_csv('data/IMR32.tsv', sep='\\t', index_col=0)\n",
    "d1 = d1.dropna(how='all')\n",
    "d1 = adj.data_cleaning(d1, fun = 'sum')"
   ]
  },
  {
   "cell_type": "code",
   "execution_count": 6,
   "id": "1a5045b7-2e06-40e4-9922-63390ddefe14",
   "metadata": {},
   "outputs": [],
   "source": [
    "# Brest - SKBR3\n",
    "\n",
    "d2 = pd.read_csv('data/SKBR3.tsv', sep='\\t', index_col=0)\n",
    "d2 = d2.dropna(how='all')\n",
    "d2 = adj.data_cleaning(d2, fun = 'sum')"
   ]
  },
  {
   "cell_type": "code",
   "execution_count": 7,
   "id": "3376bebd-9f55-456e-93ba-ff45c481b917",
   "metadata": {},
   "outputs": [],
   "source": [
    "# Skin - A431\n",
    "\n",
    "d3 = pd.read_csv('data/A431.tsv', sep='\\t', index_col=0)\n",
    "d3 = d3.dropna(how='all')\n",
    "d3 = adj.data_cleaning(d3, fun = 'sum')"
   ]
  },
  {
   "cell_type": "code",
   "execution_count": 8,
   "id": "24e26657-1305-4874-8fd8-dfbe41f61b98",
   "metadata": {},
   "outputs": [],
   "source": [
    "# creating full data and metadata file\n",
    "full_data, metadata = adj.data_concat({'IMR32':d1, 'SKBR3':d2, 'A431': d3})\n",
    "full_data_TPM = adj.normalize_tpm(full_data)"
   ]
  },
  {
   "cell_type": "code",
   "execution_count": 9,
   "id": "29d9627d-931e-4c29-b46d-ef79859a3ec8",
   "metadata": {},
   "outputs": [],
   "source": [
    "# exclude mitochondrial genes MT-\n",
    "filtered_data = full_data_TPM.loc[~full_data_TPM.index.str.contains('MT-', na=False)]"
   ]
  },
  {
   "cell_type": "code",
   "execution_count": 10,
   "id": "f9bba87f-a71c-441b-a29a-72d3c11f465c",
   "metadata": {},
   "outputs": [
    {
     "data": {
      "text/plain": [
       "{False}"
      ]
     },
     "execution_count": 10,
     "metadata": {},
     "output_type": "execute_result"
    }
   ],
   "source": [
    "set(filtered_data.index.duplicated())\n"
   ]
  },
  {
   "cell_type": "code",
   "execution_count": 11,
   "id": "89a48078-b418-4abe-baca-dffe19242281",
   "metadata": {},
   "outputs": [
    {
     "data": {
      "text/html": [
       "<div>\n",
       "<style scoped>\n",
       "    .dataframe tbody tr th:only-of-type {\n",
       "        vertical-align: middle;\n",
       "    }\n",
       "\n",
       "    .dataframe tbody tr th {\n",
       "        vertical-align: top;\n",
       "    }\n",
       "\n",
       "    .dataframe thead th {\n",
       "        text-align: right;\n",
       "    }\n",
       "</style>\n",
       "<table border=\"1\" class=\"dataframe\">\n",
       "  <thead>\n",
       "    <tr style=\"text-align: right;\">\n",
       "      <th></th>\n",
       "      <th>pct_occurrence</th>\n",
       "      <th>mean</th>\n",
       "      <th>variance</th>\n",
       "      <th>p-val</th>\n",
       "      <th>adj_pval</th>\n",
       "      <th>FC</th>\n",
       "      <th>log(FC)</th>\n",
       "      <th>set</th>\n",
       "      <th>feature</th>\n",
       "    </tr>\n",
       "    <tr>\n",
       "      <th>id</th>\n",
       "      <th></th>\n",
       "      <th></th>\n",
       "      <th></th>\n",
       "      <th></th>\n",
       "      <th></th>\n",
       "      <th></th>\n",
       "      <th></th>\n",
       "      <th></th>\n",
       "      <th></th>\n",
       "    </tr>\n",
       "  </thead>\n",
       "  <tbody>\n",
       "    <tr>\n",
       "      <th>ABCC3</th>\n",
       "      <td>1.000000</td>\n",
       "      <td>3.213638</td>\n",
       "      <td>0.738028</td>\n",
       "      <td>0.0</td>\n",
       "      <td>0.0</td>\n",
       "      <td>3.106929</td>\n",
       "      <td>1.635489</td>\n",
       "      <td>A431</td>\n",
       "      <td>ABCC3</td>\n",
       "    </tr>\n",
       "    <tr>\n",
       "      <th>ACCS</th>\n",
       "      <td>0.991228</td>\n",
       "      <td>3.283749</td>\n",
       "      <td>1.183696</td>\n",
       "      <td>0.0</td>\n",
       "      <td>0.0</td>\n",
       "      <td>4.401372</td>\n",
       "      <td>2.137953</td>\n",
       "      <td>A431</td>\n",
       "      <td>ACCS</td>\n",
       "    </tr>\n",
       "    <tr>\n",
       "      <th>ACKR3</th>\n",
       "      <td>1.000000</td>\n",
       "      <td>4.295409</td>\n",
       "      <td>4.358865</td>\n",
       "      <td>0.0</td>\n",
       "      <td>0.0</td>\n",
       "      <td>8.044952</td>\n",
       "      <td>3.008084</td>\n",
       "      <td>A431</td>\n",
       "      <td>ACKR3</td>\n",
       "    </tr>\n",
       "    <tr>\n",
       "      <th>ACP5</th>\n",
       "      <td>0.973684</td>\n",
       "      <td>3.845149</td>\n",
       "      <td>3.777921</td>\n",
       "      <td>0.0</td>\n",
       "      <td>0.0</td>\n",
       "      <td>4.698479</td>\n",
       "      <td>2.232194</td>\n",
       "      <td>A431</td>\n",
       "      <td>ACP5</td>\n",
       "    </tr>\n",
       "    <tr>\n",
       "      <th>ADAM8</th>\n",
       "      <td>0.991228</td>\n",
       "      <td>4.886489</td>\n",
       "      <td>2.842812</td>\n",
       "      <td>0.0</td>\n",
       "      <td>0.0</td>\n",
       "      <td>8.113190</td>\n",
       "      <td>3.020269</td>\n",
       "      <td>A431</td>\n",
       "      <td>ADAM8</td>\n",
       "    </tr>\n",
       "  </tbody>\n",
       "</table>\n",
       "</div>"
      ],
      "text/plain": [
       "       pct_occurrence      mean  variance p-val adj_pval        FC   log(FC)  \\\n",
       "id                                                                             \n",
       "ABCC3        1.000000  3.213638  0.738028   0.0      0.0  3.106929  1.635489   \n",
       "ACCS         0.991228  3.283749  1.183696   0.0      0.0  4.401372  2.137953   \n",
       "ACKR3        1.000000  4.295409  4.358865   0.0      0.0  8.044952  3.008084   \n",
       "ACP5         0.973684  3.845149  3.777921   0.0      0.0  4.698479  2.232194   \n",
       "ADAM8        0.991228  4.886489  2.842812   0.0      0.0  8.113190  3.020269   \n",
       "\n",
       "        set feature  \n",
       "id                   \n",
       "ABCC3  A431   ABCC3  \n",
       "ACCS   A431    ACCS  \n",
       "ACKR3  A431   ACKR3  \n",
       "ACP5   A431    ACP5  \n",
       "ADAM8  A431   ADAM8  "
      ]
     },
     "execution_count": 11,
     "metadata": {},
     "output_type": "execute_result"
    }
   ],
   "source": [
    "# calculation important variable\n",
    "from scripts.FeaturesSelection import FeaturesSelection\n",
    "\n",
    "fs = FeaturesSelection(data = filtered_data, metadata = metadata)\n",
    "\n",
    "fs.fs().head()\n"
   ]
  },
  {
   "cell_type": "code",
   "execution_count": 12,
   "id": "fdf3e720-5718-4c97-8a1b-76078349f31e",
   "metadata": {},
   "outputs": [
    {
     "data": {
      "text/html": [
       "<div>\n",
       "<style scoped>\n",
       "    .dataframe tbody tr th:only-of-type {\n",
       "        vertical-align: middle;\n",
       "    }\n",
       "\n",
       "    .dataframe tbody tr th {\n",
       "        vertical-align: top;\n",
       "    }\n",
       "\n",
       "    .dataframe thead th {\n",
       "        text-align: right;\n",
       "    }\n",
       "</style>\n",
       "<table border=\"1\" class=\"dataframe\">\n",
       "  <thead>\n",
       "    <tr style=\"text-align: right;\">\n",
       "      <th></th>\n",
       "      <th>pct_occurrence</th>\n",
       "      <th>mean</th>\n",
       "      <th>variance</th>\n",
       "      <th>p-val</th>\n",
       "      <th>adj_pval</th>\n",
       "      <th>FC</th>\n",
       "      <th>log(FC)</th>\n",
       "      <th>set</th>\n",
       "      <th>feature</th>\n",
       "    </tr>\n",
       "  </thead>\n",
       "  <tbody>\n",
       "    <tr>\n",
       "      <th>0</th>\n",
       "      <td>1.0</td>\n",
       "      <td>3.170639</td>\n",
       "      <td>0.349915</td>\n",
       "      <td>0.0</td>\n",
       "      <td>0.0</td>\n",
       "      <td>5.718265</td>\n",
       "      <td>2.515577</td>\n",
       "      <td>A431</td>\n",
       "      <td>IGF2BP2</td>\n",
       "    </tr>\n",
       "    <tr>\n",
       "      <th>1</th>\n",
       "      <td>1.0</td>\n",
       "      <td>5.238146</td>\n",
       "      <td>0.564769</td>\n",
       "      <td>0.0</td>\n",
       "      <td>0.0</td>\n",
       "      <td>5.420413</td>\n",
       "      <td>2.438403</td>\n",
       "      <td>A431</td>\n",
       "      <td>LGALS3</td>\n",
       "    </tr>\n",
       "    <tr>\n",
       "      <th>2</th>\n",
       "      <td>1.0</td>\n",
       "      <td>4.036214</td>\n",
       "      <td>0.604264</td>\n",
       "      <td>0.0</td>\n",
       "      <td>0.0</td>\n",
       "      <td>5.843520</td>\n",
       "      <td>2.546838</td>\n",
       "      <td>A431</td>\n",
       "      <td>MICA</td>\n",
       "    </tr>\n",
       "    <tr>\n",
       "      <th>3</th>\n",
       "      <td>1.0</td>\n",
       "      <td>3.441091</td>\n",
       "      <td>0.625091</td>\n",
       "      <td>0.0</td>\n",
       "      <td>0.0</td>\n",
       "      <td>3.074054</td>\n",
       "      <td>1.620143</td>\n",
       "      <td>A431</td>\n",
       "      <td>PARP12</td>\n",
       "    </tr>\n",
       "    <tr>\n",
       "      <th>4</th>\n",
       "      <td>1.0</td>\n",
       "      <td>4.476449</td>\n",
       "      <td>0.628531</td>\n",
       "      <td>0.0</td>\n",
       "      <td>0.0</td>\n",
       "      <td>2.995020</td>\n",
       "      <td>1.582566</td>\n",
       "      <td>A431</td>\n",
       "      <td>PRPS2</td>\n",
       "    </tr>\n",
       "  </tbody>\n",
       "</table>\n",
       "</div>"
      ],
      "text/plain": [
       "   pct_occurrence      mean  variance p-val adj_pval        FC   log(FC)  \\\n",
       "0             1.0  3.170639  0.349915   0.0      0.0  5.718265  2.515577   \n",
       "1             1.0  5.238146  0.564769   0.0      0.0  5.420413  2.438403   \n",
       "2             1.0  4.036214  0.604264   0.0      0.0  5.843520  2.546838   \n",
       "3             1.0  3.441091  0.625091   0.0      0.0  3.074054  1.620143   \n",
       "4             1.0  4.476449  0.628531   0.0      0.0  2.995020  1.582566   \n",
       "\n",
       "    set  feature  \n",
       "0  A431  IGF2BP2  \n",
       "1  A431   LGALS3  \n",
       "2  A431     MICA  \n",
       "3  A431   PARP12  \n",
       "4  A431    PRPS2  "
      ]
     },
     "execution_count": 12,
     "metadata": {},
     "output_type": "execute_result"
    }
   ],
   "source": [
    "top_markers = fs.select_top()\n",
    "\n",
    "top_markers.head()"
   ]
  },
  {
   "cell_type": "code",
   "execution_count": 13,
   "id": "448293a2-488f-407c-ae57-15d63c81119e",
   "metadata": {},
   "outputs": [
    {
     "data": {
      "text/plain": [
       "(150, 470)"
      ]
     },
     "execution_count": 13,
     "metadata": {},
     "output_type": "execute_result"
    }
   ],
   "source": [
    "filtered_data_markers = filtered_data.loc[list(top_markers['feature']),:]\n",
    "\n",
    "filtered_data_markers.shape"
   ]
  },
  {
   "cell_type": "code",
   "execution_count": 14,
   "id": "86a28e7c-0db5-480d-b194-64293142019b",
   "metadata": {},
   "outputs": [],
   "source": [
    "# loading requirements for model creating\n",
    "\n",
    "\n",
    "import numpy as np\n",
    "from sklearn.datasets import load_iris\n",
    "from sklearn.model_selection import train_test_split\n",
    "from sklearn.preprocessing import StandardScaler\n",
    "from sklearn.metrics import accuracy_score\n",
    "from sklearn.ensemble import RandomForestClassifier\n",
    "from sklearn.svm import SVC\n",
    "from sklearn.neighbors import KNeighborsClassifier\n",
    "from sklearn.linear_model import LogisticRegression"
   ]
  },
  {
   "cell_type": "code",
   "execution_count": 15,
   "id": "1ea2dc07-a3a7-4e23-96a6-f35a69f00763",
   "metadata": {},
   "outputs": [],
   "source": [
    "# set training (70%) and test (30%) data\n",
    "\n",
    "\n",
    "X = np.array(filtered_data_markers).T\n",
    "y = np.array(metadata['names'])\n",
    "\n",
    "# Split to test and training\n",
    "X_train, X_test, y_train, y_test = train_test_split(X, y, test_size=0.3, random_state=42, stratify=y)\n"
   ]
  },
  {
   "cell_type": "code",
   "execution_count": 16,
   "id": "277e4e31-0de7-4d8a-851a-49a74a0cc326",
   "metadata": {},
   "outputs": [],
   "source": [
    "# prepare Imputer\n",
    "from sklearn.impute import KNNImputer\n",
    "\n",
    "imputer = KNNImputer(n_neighbors=5)\n",
    "\n",
    "# Imputacja danych\n",
    "X_train = imputer.fit_transform(X_train)\n",
    "X_test = imputer.transform(X_test)"
   ]
  },
  {
   "cell_type": "code",
   "execution_count": 17,
   "id": "b70edda2-68f3-4b83-897c-1834ace73a3f",
   "metadata": {},
   "outputs": [],
   "source": [
    "# Scale training and test independent\n",
    "scaler = StandardScaler()\n",
    "X_train = scaler.fit_transform(X_train)\n",
    "X_test = scaler.transform(X_test)"
   ]
  },
  {
   "cell_type": "code",
   "execution_count": 18,
   "id": "a8459a90-a0d3-4179-9535-ca0268502b92",
   "metadata": {},
   "outputs": [],
   "source": [
    "# prepare example models \n",
    "# unbalanced data require class_weight 'balanced'\n",
    "\n",
    "len(d1.columns) # 136n\n",
    "len(d2.columns) # 220n\n",
    "len(d3.columns) # 144n\n",
    "\n",
    "\n",
    "models = {\n",
    "    \"Random Forest\": RandomForestClassifier(n_estimators=100, random_state=42, class_weight='balanced'),\n",
    "    \"SVM\": SVC(kernel='linear', class_weight='balanced'),\n",
    "    \"KNN\": KNeighborsClassifier(n_neighbors=5),\n",
    "    \"Logistic Regression\": LogisticRegression(max_iter=200, class_weight='balanced')\n",
    "}\n"
   ]
  },
  {
   "cell_type": "code",
   "execution_count": 19,
   "id": "1bdf4520-5cc9-46af-8a43-f7dc20d5369a",
   "metadata": {},
   "outputs": [],
   "source": [
    "# evaluate models - get stats\n",
    "\n",
    "from sklearn.metrics import accuracy_score, precision_recall_fscore_support\n",
    "import pandas as pd\n",
    "\n",
    "def ev_mod(models, X_train, X_test, y_train, y_test):\n",
    "    results = []\n",
    "    \n",
    "    for name, model in models.items():\n",
    "        # train\n",
    "        model.fit(X_train, y_train)\n",
    "        \n",
    "        # predict\n",
    "        y_pred = model.predict(X_test)\n",
    "        \n",
    "        # stats\n",
    "        acc = accuracy_score(y_test, y_pred)\n",
    "        precision, recall, f1, support = precision_recall_fscore_support(y_test, y_pred, average='weighted')\n",
    "        \n",
    "        results.append({\n",
    "            'Model': name,\n",
    "            'Accuracy': acc,\n",
    "            'Precision': precision,\n",
    "            'Recall': recall,\n",
    "            'F1 Score': f1\n",
    "        })\n",
    "        \n",
    "    \n",
    "    results_df = pd.DataFrame(results)\n",
    "    return results_df\n"
   ]
  },
  {
   "cell_type": "code",
   "execution_count": 20,
   "id": "f00f8bad-03dc-4681-a189-891dcd102af0",
   "metadata": {},
   "outputs": [
    {
     "data": {
      "text/html": [
       "<div>\n",
       "<style scoped>\n",
       "    .dataframe tbody tr th:only-of-type {\n",
       "        vertical-align: middle;\n",
       "    }\n",
       "\n",
       "    .dataframe tbody tr th {\n",
       "        vertical-align: top;\n",
       "    }\n",
       "\n",
       "    .dataframe thead th {\n",
       "        text-align: right;\n",
       "    }\n",
       "</style>\n",
       "<table border=\"1\" class=\"dataframe\">\n",
       "  <thead>\n",
       "    <tr style=\"text-align: right;\">\n",
       "      <th></th>\n",
       "      <th>Model</th>\n",
       "      <th>Accuracy</th>\n",
       "      <th>Precision</th>\n",
       "      <th>Recall</th>\n",
       "      <th>F1 Score</th>\n",
       "    </tr>\n",
       "  </thead>\n",
       "  <tbody>\n",
       "    <tr>\n",
       "      <th>0</th>\n",
       "      <td>Random Forest</td>\n",
       "      <td>1.000000</td>\n",
       "      <td>1.000000</td>\n",
       "      <td>1.000000</td>\n",
       "      <td>1.000000</td>\n",
       "    </tr>\n",
       "    <tr>\n",
       "      <th>1</th>\n",
       "      <td>SVM</td>\n",
       "      <td>1.000000</td>\n",
       "      <td>1.000000</td>\n",
       "      <td>1.000000</td>\n",
       "      <td>1.000000</td>\n",
       "    </tr>\n",
       "    <tr>\n",
       "      <th>2</th>\n",
       "      <td>KNN</td>\n",
       "      <td>0.978723</td>\n",
       "      <td>0.978846</td>\n",
       "      <td>0.978723</td>\n",
       "      <td>0.978693</td>\n",
       "    </tr>\n",
       "    <tr>\n",
       "      <th>3</th>\n",
       "      <td>Logistic Regression</td>\n",
       "      <td>1.000000</td>\n",
       "      <td>1.000000</td>\n",
       "      <td>1.000000</td>\n",
       "      <td>1.000000</td>\n",
       "    </tr>\n",
       "  </tbody>\n",
       "</table>\n",
       "</div>"
      ],
      "text/plain": [
       "                 Model  Accuracy  Precision    Recall  F1 Score\n",
       "0        Random Forest  1.000000   1.000000  1.000000  1.000000\n",
       "1                  SVM  1.000000   1.000000  1.000000  1.000000\n",
       "2                  KNN  0.978723   0.978846  0.978723  0.978693\n",
       "3  Logistic Regression  1.000000   1.000000  1.000000  1.000000"
      ]
     },
     "execution_count": 20,
     "metadata": {},
     "output_type": "execute_result"
    }
   ],
   "source": [
    "results = ev_mod(models, X_train, X_test, y_train, y_test)\n",
    "results"
   ]
  },
  {
   "cell_type": "code",
   "execution_count": 21,
   "id": "8e727992-98f0-40f0-953f-9112472f7bdd",
   "metadata": {},
   "outputs": [],
   "source": [
    "# evaluate CrossValidation (x) models - get stats\n",
    "\n",
    "from sklearn.model_selection import cross_validate\n",
    "from sklearn.metrics import make_scorer, precision_score, recall_score, f1_score, accuracy_score\n",
    "import pandas as pd\n",
    "\n",
    "def evaluate_models_with_cv(models, X_train, y_train):\n",
    "    results = []\n",
    "    \n",
    "    for name, model in models.items():\n",
    "        # metrices\n",
    "        scoring = {\n",
    "            'accuracy': 'accuracy',\n",
    "            'precision': make_scorer(precision_score, average='weighted'),\n",
    "            'recall': make_scorer(recall_score, average='weighted'),\n",
    "            'f1': make_scorer(f1_score, average='weighted')\n",
    "        }\n",
    "        \n",
    "        # cross-validation\n",
    "        cv_results = cross_validate(model, X_train, y_train, cv=5, scoring=scoring, return_train_score=False)\n",
    "        \n",
    "        results.append({\n",
    "            'Model': name,\n",
    "            'Mean Accuracy': cv_results['test_accuracy'].mean(),\n",
    "            'Mean Precision': cv_results['test_precision'].mean(),\n",
    "            'Mean Recall': cv_results['test_recall'].mean(),\n",
    "            'Mean F1': cv_results['test_f1'].mean(),\n",
    "        })\n",
    "        \n",
    "        \n",
    "    results_df = pd.DataFrame(results)\n",
    "    return results_df\n",
    "\n"
   ]
  },
  {
   "cell_type": "code",
   "execution_count": 22,
   "id": "e7f0190c-6242-4c77-b721-df3428dbb345",
   "metadata": {},
   "outputs": [
    {
     "data": {
      "text/html": [
       "<div>\n",
       "<style scoped>\n",
       "    .dataframe tbody tr th:only-of-type {\n",
       "        vertical-align: middle;\n",
       "    }\n",
       "\n",
       "    .dataframe tbody tr th {\n",
       "        vertical-align: top;\n",
       "    }\n",
       "\n",
       "    .dataframe thead th {\n",
       "        text-align: right;\n",
       "    }\n",
       "</style>\n",
       "<table border=\"1\" class=\"dataframe\">\n",
       "  <thead>\n",
       "    <tr style=\"text-align: right;\">\n",
       "      <th></th>\n",
       "      <th>Model</th>\n",
       "      <th>Mean Accuracy</th>\n",
       "      <th>Mean Precision</th>\n",
       "      <th>Mean Recall</th>\n",
       "      <th>Mean F1</th>\n",
       "    </tr>\n",
       "  </thead>\n",
       "  <tbody>\n",
       "    <tr>\n",
       "      <th>0</th>\n",
       "      <td>Random Forest</td>\n",
       "      <td>0.993939</td>\n",
       "      <td>0.994186</td>\n",
       "      <td>0.993939</td>\n",
       "      <td>0.993912</td>\n",
       "    </tr>\n",
       "    <tr>\n",
       "      <th>1</th>\n",
       "      <td>SVM</td>\n",
       "      <td>0.990909</td>\n",
       "      <td>0.991581</td>\n",
       "      <td>0.990909</td>\n",
       "      <td>0.990970</td>\n",
       "    </tr>\n",
       "    <tr>\n",
       "      <th>3</th>\n",
       "      <td>Logistic Regression</td>\n",
       "      <td>0.990909</td>\n",
       "      <td>0.991581</td>\n",
       "      <td>0.990909</td>\n",
       "      <td>0.990970</td>\n",
       "    </tr>\n",
       "    <tr>\n",
       "      <th>2</th>\n",
       "      <td>KNN</td>\n",
       "      <td>0.981818</td>\n",
       "      <td>0.982725</td>\n",
       "      <td>0.981818</td>\n",
       "      <td>0.981904</td>\n",
       "    </tr>\n",
       "  </tbody>\n",
       "</table>\n",
       "</div>"
      ],
      "text/plain": [
       "                 Model  Mean Accuracy  Mean Precision  Mean Recall   Mean F1\n",
       "0        Random Forest       0.993939        0.994186     0.993939  0.993912\n",
       "1                  SVM       0.990909        0.991581     0.990909  0.990970\n",
       "3  Logistic Regression       0.990909        0.991581     0.990909  0.990970\n",
       "2                  KNN       0.981818        0.982725     0.981818  0.981904"
      ]
     },
     "execution_count": 22,
     "metadata": {},
     "output_type": "execute_result"
    }
   ],
   "source": [
    "cv_results = evaluate_models_with_cv(models, X_train, y_train)  \n",
    "cv_results.sort_values(by=[\"Mean Accuracy\", \"Mean Precision\", \"Mean Recall\", \"Mean F1\"], ascending=False)"
   ]
  },
  {
   "cell_type": "code",
   "execution_count": 23,
   "id": "3f7b6058-56fe-4e7e-b2c9-9ae89247aa6f",
   "metadata": {},
   "outputs": [
    {
     "data": {
      "image/png": "[encoded data removed]",
      "text/plain": [
       "<Figure size 600x600 with 2 Axes>"
      ]
     },
     "metadata": {},
     "output_type": "display_data"
    },
    {
     "data": {
      "image/png": "[encoded data removed]",
      "text/plain": [
       "<Figure size 600x600 with 2 Axes>"
      ]
     },
     "metadata": {},
     "output_type": "display_data"
    },
    {
     "data": {
      "image/png": "[encoded data removed]",
      "text/plain": [
       "<Figure size 600x600 with 2 Axes>"
      ]
     },
     "metadata": {},
     "output_type": "display_data"
    },
    {
     "data": {
      "image/png": "[encoded data removed]",
      "text/plain": [
       "<Figure size 600x600 with 2 Axes>"
      ]
     },
     "metadata": {},
     "output_type": "display_data"
    }
   ],
   "source": [
    "# Confusion matrix\n",
    "from sklearn.metrics import confusion_matrix\n",
    "import seaborn as sns\n",
    "import matplotlib.pyplot as plt\n",
    "\n",
    "def plot_confusion_matrix(model, X_test, y_test, model_name):\n",
    "    y_pred = model.predict(X_test)\n",
    "    cm = confusion_matrix(y_test, y_pred)\n",
    "    plt.figure(figsize=(6,6))\n",
    "    sns.heatmap(cm, annot=True, fmt='d', cmap='Blues', xticklabels=model.classes_, yticklabels=model.classes_)\n",
    "    plt.title(f\"Confusion Matrix - {model_name}\")\n",
    "    plt.xlabel('Predicted Labels')\n",
    "    plt.ylabel('True Labels')\n",
    "    plt.show()\n",
    "\n",
    "\n",
    "for name, model in models.items():\n",
    "    plot_confusion_matrix(model, X_test, y_test, name)"
   ]
  },
  {
   "cell_type": "code",
   "execution_count": 24,
   "id": "da8fcb92-ac16-4f76-9483-4b067f5a6f9d",
   "metadata": {},
   "outputs": [
    {
     "data": {
      "text/plain": [
       "['BestModel.pkl']"
      ]
     },
     "execution_count": 24,
     "metadata": {},
     "output_type": "execute_result"
    }
   ],
   "source": [
    "# save model\n",
    "import joblib\n",
    "\n",
    "from scripts.Model import BestModel\n",
    "\n",
    "bs = BestModel(name = 'Random Forest',\n",
    "               model= models['Random Forest'], \n",
    "               scaler = scaler, \n",
    "               imputer = imputer, \n",
    "               features = list(filtered_data_markers.index))\n",
    "    \n",
    "\n",
    "joblib.dump(bs, 'BestModel.pkl')"
   ]
  }
 ],
 "metadata": {
  "kernelspec": {
   "display_name": "Python 3 (ipykernel)",
   "language": "python",
   "name": "python3"
  },
  "language_info": {
   "codemirror_mode": {
    "name": "ipython",
    "version": 3
   },
   "file_extension": ".py",
   "mimetype": "text/x-python",
   "name": "python",
   "nbconvert_exporter": "python",
   "pygments_lexer": "ipython3",
   "version": "3.9.16"
  }
 },
 "nbformat": 4,
 "nbformat_minor": 5
}
